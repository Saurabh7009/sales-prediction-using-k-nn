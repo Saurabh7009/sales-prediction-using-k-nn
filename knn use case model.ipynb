{
 "cells": [
  {
   "cell_type": "markdown",
   "id": "78e1b5b6",
   "metadata": {},
   "source": [
    "## KNN Use Case Model"
   ]
  },
  {
   "cell_type": "markdown",
   "id": "9b251a8d",
   "metadata": {},
   "source": [
    "## *when to use knn model "
   ]
  },
  {
   "cell_type": "markdown",
   "id": "fa1b714c",
   "metadata": {},
   "source": [
    "### when the dataset has less dimensionality means no of features are very less"
   ]
  },
  {
   "cell_type": "markdown",
   "id": "28baf30b",
   "metadata": {},
   "source": [
    "## *when not to use knn model"
   ]
  },
  {
   "cell_type": "markdown",
   "id": "d3b1447d",
   "metadata": {},
   "source": [
    "## 1) dimensionality very large, 2) low latency application - the application where calculations or processing need to be done faster"
   ]
  },
  {
   "cell_type": "markdown",
   "id": "0fdb9af4",
   "metadata": {},
   "source": [
    "## #######################################################################"
   ]
  },
  {
   "cell_type": "markdown",
   "id": "c0ff5648",
   "metadata": {},
   "source": [
    "## Project Sales Prediction Of Product"
   ]
  },
  {
   "cell_type": "markdown",
   "id": "ce4c23a9",
   "metadata": {},
   "source": [
    "## Import the necessary libraries"
   ]
  },
  {
   "cell_type": "code",
   "execution_count": 1,
   "id": "bceaac22",
   "metadata": {},
   "outputs": [],
   "source": [
    "import numpy as np\n",
    "import pandas as pd\n",
    "import seaborn as sns\n",
    "import matplotlib.pyplot as plt"
   ]
  },
  {
   "cell_type": "markdown",
   "id": "78e97e73",
   "metadata": {},
   "source": [
    "## Loading of Dataset"
   ]
  },
  {
   "cell_type": "code",
   "execution_count": 2,
   "id": "2d47656f",
   "metadata": {},
   "outputs": [
    {
     "data": {
      "text/html": [
       "<div>\n",
       "<style scoped>\n",
       "    .dataframe tbody tr th:only-of-type {\n",
       "        vertical-align: middle;\n",
       "    }\n",
       "\n",
       "    .dataframe tbody tr th {\n",
       "        vertical-align: top;\n",
       "    }\n",
       "\n",
       "    .dataframe thead th {\n",
       "        text-align: right;\n",
       "    }\n",
       "</style>\n",
       "<table border=\"1\" class=\"dataframe\">\n",
       "  <thead>\n",
       "    <tr style=\"text-align: right;\">\n",
       "      <th></th>\n",
       "      <th>User ID</th>\n",
       "      <th>Gender</th>\n",
       "      <th>Age</th>\n",
       "      <th>EstimatedSalary</th>\n",
       "      <th>Purchased</th>\n",
       "    </tr>\n",
       "  </thead>\n",
       "  <tbody>\n",
       "    <tr>\n",
       "      <th>0</th>\n",
       "      <td>15624510</td>\n",
       "      <td>Male</td>\n",
       "      <td>19</td>\n",
       "      <td>19000</td>\n",
       "      <td>0</td>\n",
       "    </tr>\n",
       "    <tr>\n",
       "      <th>1</th>\n",
       "      <td>15810944</td>\n",
       "      <td>Male</td>\n",
       "      <td>35</td>\n",
       "      <td>20000</td>\n",
       "      <td>0</td>\n",
       "    </tr>\n",
       "    <tr>\n",
       "      <th>2</th>\n",
       "      <td>15668575</td>\n",
       "      <td>Female</td>\n",
       "      <td>26</td>\n",
       "      <td>43000</td>\n",
       "      <td>0</td>\n",
       "    </tr>\n",
       "    <tr>\n",
       "      <th>3</th>\n",
       "      <td>15603246</td>\n",
       "      <td>Female</td>\n",
       "      <td>27</td>\n",
       "      <td>57000</td>\n",
       "      <td>0</td>\n",
       "    </tr>\n",
       "    <tr>\n",
       "      <th>4</th>\n",
       "      <td>15804002</td>\n",
       "      <td>Male</td>\n",
       "      <td>19</td>\n",
       "      <td>76000</td>\n",
       "      <td>0</td>\n",
       "    </tr>\n",
       "  </tbody>\n",
       "</table>\n",
       "</div>"
      ],
      "text/plain": [
       "    User ID  Gender  Age  EstimatedSalary  Purchased\n",
       "0  15624510    Male   19            19000          0\n",
       "1  15810944    Male   35            20000          0\n",
       "2  15668575  Female   26            43000          0\n",
       "3  15603246  Female   27            57000          0\n",
       "4  15804002    Male   19            76000          0"
      ]
     },
     "execution_count": 2,
     "metadata": {},
     "output_type": "execute_result"
    }
   ],
   "source": [
    "df=pd.read_csv('Social_Network_Ads.csv')\n",
    "df.head()"
   ]
  },
  {
   "cell_type": "code",
   "execution_count": 3,
   "id": "dae29333",
   "metadata": {},
   "outputs": [
    {
     "name": "stdout",
     "output_type": "stream",
     "text": [
      "<class 'pandas.core.frame.DataFrame'>\n",
      "RangeIndex: 400 entries, 0 to 399\n",
      "Data columns (total 5 columns):\n",
      " #   Column           Non-Null Count  Dtype \n",
      "---  ------           --------------  ----- \n",
      " 0   User ID          400 non-null    int64 \n",
      " 1   Gender           400 non-null    object\n",
      " 2   Age              400 non-null    int64 \n",
      " 3   EstimatedSalary  400 non-null    int64 \n",
      " 4   Purchased        400 non-null    int64 \n",
      "dtypes: int64(4), object(1)\n",
      "memory usage: 15.8+ KB\n"
     ]
    }
   ],
   "source": [
    "df.info()"
   ]
  },
  {
   "cell_type": "code",
   "execution_count": 4,
   "id": "4b90b710",
   "metadata": {},
   "outputs": [
    {
     "data": {
      "text/plain": [
       "(400, 5)"
      ]
     },
     "execution_count": 4,
     "metadata": {},
     "output_type": "execute_result"
    }
   ],
   "source": [
    "df.shape"
   ]
  },
  {
   "cell_type": "code",
   "execution_count": 5,
   "id": "0c42928d",
   "metadata": {},
   "outputs": [
    {
     "data": {
      "text/plain": [
       "User ID            0\n",
       "Gender             0\n",
       "Age                0\n",
       "EstimatedSalary    0\n",
       "Purchased          0\n",
       "dtype: int64"
      ]
     },
     "execution_count": 5,
     "metadata": {},
     "output_type": "execute_result"
    }
   ],
   "source": [
    "df.isnull().sum()"
   ]
  },
  {
   "cell_type": "code",
   "execution_count": 6,
   "id": "0602f6a0",
   "metadata": {},
   "outputs": [
    {
     "data": {
      "text/html": [
       "<div>\n",
       "<style scoped>\n",
       "    .dataframe tbody tr th:only-of-type {\n",
       "        vertical-align: middle;\n",
       "    }\n",
       "\n",
       "    .dataframe tbody tr th {\n",
       "        vertical-align: top;\n",
       "    }\n",
       "\n",
       "    .dataframe thead th {\n",
       "        text-align: right;\n",
       "    }\n",
       "</style>\n",
       "<table border=\"1\" class=\"dataframe\">\n",
       "  <thead>\n",
       "    <tr style=\"text-align: right;\">\n",
       "      <th></th>\n",
       "      <th>User ID</th>\n",
       "      <th>Age</th>\n",
       "      <th>EstimatedSalary</th>\n",
       "      <th>Purchased</th>\n",
       "    </tr>\n",
       "  </thead>\n",
       "  <tbody>\n",
       "    <tr>\n",
       "      <th>count</th>\n",
       "      <td>4.000000e+02</td>\n",
       "      <td>400.000000</td>\n",
       "      <td>400.000000</td>\n",
       "      <td>400.000000</td>\n",
       "    </tr>\n",
       "    <tr>\n",
       "      <th>mean</th>\n",
       "      <td>1.569154e+07</td>\n",
       "      <td>37.655000</td>\n",
       "      <td>69742.500000</td>\n",
       "      <td>0.357500</td>\n",
       "    </tr>\n",
       "    <tr>\n",
       "      <th>std</th>\n",
       "      <td>7.165832e+04</td>\n",
       "      <td>10.482877</td>\n",
       "      <td>34096.960282</td>\n",
       "      <td>0.479864</td>\n",
       "    </tr>\n",
       "    <tr>\n",
       "      <th>min</th>\n",
       "      <td>1.556669e+07</td>\n",
       "      <td>18.000000</td>\n",
       "      <td>15000.000000</td>\n",
       "      <td>0.000000</td>\n",
       "    </tr>\n",
       "    <tr>\n",
       "      <th>25%</th>\n",
       "      <td>1.562676e+07</td>\n",
       "      <td>29.750000</td>\n",
       "      <td>43000.000000</td>\n",
       "      <td>0.000000</td>\n",
       "    </tr>\n",
       "    <tr>\n",
       "      <th>50%</th>\n",
       "      <td>1.569434e+07</td>\n",
       "      <td>37.000000</td>\n",
       "      <td>70000.000000</td>\n",
       "      <td>0.000000</td>\n",
       "    </tr>\n",
       "    <tr>\n",
       "      <th>75%</th>\n",
       "      <td>1.575036e+07</td>\n",
       "      <td>46.000000</td>\n",
       "      <td>88000.000000</td>\n",
       "      <td>1.000000</td>\n",
       "    </tr>\n",
       "    <tr>\n",
       "      <th>max</th>\n",
       "      <td>1.581524e+07</td>\n",
       "      <td>60.000000</td>\n",
       "      <td>150000.000000</td>\n",
       "      <td>1.000000</td>\n",
       "    </tr>\n",
       "  </tbody>\n",
       "</table>\n",
       "</div>"
      ],
      "text/plain": [
       "            User ID         Age  EstimatedSalary   Purchased\n",
       "count  4.000000e+02  400.000000       400.000000  400.000000\n",
       "mean   1.569154e+07   37.655000     69742.500000    0.357500\n",
       "std    7.165832e+04   10.482877     34096.960282    0.479864\n",
       "min    1.556669e+07   18.000000     15000.000000    0.000000\n",
       "25%    1.562676e+07   29.750000     43000.000000    0.000000\n",
       "50%    1.569434e+07   37.000000     70000.000000    0.000000\n",
       "75%    1.575036e+07   46.000000     88000.000000    1.000000\n",
       "max    1.581524e+07   60.000000    150000.000000    1.000000"
      ]
     },
     "execution_count": 6,
     "metadata": {},
     "output_type": "execute_result"
    }
   ],
   "source": [
    "df.describe()"
   ]
  },
  {
   "cell_type": "code",
   "execution_count": 7,
   "id": "ad805225",
   "metadata": {},
   "outputs": [
    {
     "data": {
      "text/plain": [
       "0    257\n",
       "1    143\n",
       "Name: Purchased, dtype: int64"
      ]
     },
     "execution_count": 7,
     "metadata": {},
     "output_type": "execute_result"
    }
   ],
   "source": [
    "df['Purchased'].value_counts()"
   ]
  },
  {
   "cell_type": "code",
   "execution_count": 8,
   "id": "4ec403e0",
   "metadata": {},
   "outputs": [
    {
     "name": "stderr",
     "output_type": "stream",
     "text": [
      "C:\\Users\\NIKHIL\\anaconda3\\lib\\site-packages\\seaborn\\_decorators.py:36: FutureWarning: Pass the following variable as a keyword arg: x. From version 0.12, the only valid positional argument will be `data`, and passing other arguments without an explicit keyword will result in an error or misinterpretation.\n",
      "  warnings.warn(\n"
     ]
    },
    {
     "data": {
      "image/png": "[encoded data removed]",
      "text/plain": [
       "<Figure size 432x288 with 1 Axes>"
      ]
     },
     "metadata": {
      "needs_background": "light"
     },
     "output_type": "display_data"
    }
   ],
   "source": [
    "sns.countplot(df['Purchased'])\n",
    "plt.show()"
   ]
  },
  {
   "cell_type": "markdown",
   "id": "a93aa3fd",
   "metadata": {},
   "source": [
    "## Defining the X and Y"
   ]
  },
  {
   "cell_type": "code",
   "execution_count": 9,
   "id": "51a90ba8",
   "metadata": {},
   "outputs": [
    {
     "data": {
      "text/plain": [
       "(400, 2)"
      ]
     },
     "execution_count": 9,
     "metadata": {},
     "output_type": "execute_result"
    }
   ],
   "source": [
    "x=df.iloc[:,2:4]\n",
    "x.shape"
   ]
  },
  {
   "cell_type": "code",
   "execution_count": 10,
   "id": "64722bd3",
   "metadata": {},
   "outputs": [
    {
     "data": {
      "text/plain": [
       "(400,)"
      ]
     },
     "execution_count": 10,
     "metadata": {},
     "output_type": "execute_result"
    }
   ],
   "source": [
    "y=df.iloc[:,-1]\n",
    "y.shape"
   ]
  },
  {
   "cell_type": "markdown",
   "id": "88c26278",
   "metadata": {},
   "source": [
    "\n",
    "## upsampling the target variable"
   ]
  },
  {
   "cell_type": "code",
   "execution_count": 11,
   "id": "a1d0d7b0",
   "metadata": {},
   "outputs": [],
   "source": [
    "from sklearn.utils import resample\n",
    "\n"
   ]
  },
  {
   "cell_type": "code",
   "execution_count": 12,
   "id": "c7a960c6",
   "metadata": {},
   "outputs": [],
   "source": [
    "mic=df[df['Purchased']==1]\n",
    "mac=df[df['Purchased']==0]\n"
   ]
  },
  {
   "cell_type": "code",
   "execution_count": 13,
   "id": "617edb0c",
   "metadata": {},
   "outputs": [
    {
     "name": "stdout",
     "output_type": "stream",
     "text": [
      "(143, 5) (257, 5)\n"
     ]
    }
   ],
   "source": [
    "print(mic.shape,mac.shape)"
   ]
  },
  {
   "cell_type": "code",
   "execution_count": 14,
   "id": "e70df445",
   "metadata": {},
   "outputs": [],
   "source": [
    "mic_upsampled=resample(mic, replace=True, n_samples=257, random_state=123)\n"
   ]
  },
  {
   "cell_type": "code",
   "execution_count": 15,
   "id": "e564dc81",
   "metadata": {},
   "outputs": [],
   "source": [
    "df_upsampled=pd.concat([mac,mic_upsampled])"
   ]
  },
  {
   "cell_type": "code",
   "execution_count": 16,
   "id": "500f8657",
   "metadata": {},
   "outputs": [
    {
     "data": {
      "text/plain": [
       "0    257\n",
       "1    257\n",
       "Name: Purchased, dtype: int64"
      ]
     },
     "execution_count": 16,
     "metadata": {},
     "output_type": "execute_result"
    }
   ],
   "source": [
    "df_upsampled['Purchased'].value_counts()"
   ]
  },
  {
   "cell_type": "markdown",
   "id": "7150001c",
   "metadata": {},
   "source": [
    "## Splitting The Data Into Training and Testing"
   ]
  },
  {
   "cell_type": "code",
   "execution_count": 17,
   "id": "77b2e47f",
   "metadata": {},
   "outputs": [],
   "source": [
    "from sklearn.model_selection import train_test_split \n",
    "x_train, x_test, y_train, y_test = train_test_split(x, y, test_size = 0.2, random_state = 1)"
   ]
  },
  {
   "cell_type": "code",
   "execution_count": 18,
   "id": "b53833ef",
   "metadata": {},
   "outputs": [
    {
     "data": {
      "text/html": [
       "<div>\n",
       "<style scoped>\n",
       "    .dataframe tbody tr th:only-of-type {\n",
       "        vertical-align: middle;\n",
       "    }\n",
       "\n",
       "    .dataframe tbody tr th {\n",
       "        vertical-align: top;\n",
       "    }\n",
       "\n",
       "    .dataframe thead th {\n",
       "        text-align: right;\n",
       "    }\n",
       "</style>\n",
       "<table border=\"1\" class=\"dataframe\">\n",
       "  <thead>\n",
       "    <tr style=\"text-align: right;\">\n",
       "      <th></th>\n",
       "      <th>Age</th>\n",
       "      <th>EstimatedSalary</th>\n",
       "    </tr>\n",
       "  </thead>\n",
       "  <tbody>\n",
       "    <tr>\n",
       "      <th>93</th>\n",
       "      <td>29</td>\n",
       "      <td>28000</td>\n",
       "    </tr>\n",
       "    <tr>\n",
       "      <th>23</th>\n",
       "      <td>45</td>\n",
       "      <td>22000</td>\n",
       "    </tr>\n",
       "    <tr>\n",
       "      <th>299</th>\n",
       "      <td>46</td>\n",
       "      <td>117000</td>\n",
       "    </tr>\n",
       "    <tr>\n",
       "      <th>13</th>\n",
       "      <td>32</td>\n",
       "      <td>18000</td>\n",
       "    </tr>\n",
       "    <tr>\n",
       "      <th>90</th>\n",
       "      <td>22</td>\n",
       "      <td>81000</td>\n",
       "    </tr>\n",
       "    <tr>\n",
       "      <th>...</th>\n",
       "      <td>...</td>\n",
       "      <td>...</td>\n",
       "    </tr>\n",
       "    <tr>\n",
       "      <th>255</th>\n",
       "      <td>52</td>\n",
       "      <td>90000</td>\n",
       "    </tr>\n",
       "    <tr>\n",
       "      <th>72</th>\n",
       "      <td>20</td>\n",
       "      <td>23000</td>\n",
       "    </tr>\n",
       "    <tr>\n",
       "      <th>396</th>\n",
       "      <td>51</td>\n",
       "      <td>23000</td>\n",
       "    </tr>\n",
       "    <tr>\n",
       "      <th>235</th>\n",
       "      <td>46</td>\n",
       "      <td>79000</td>\n",
       "    </tr>\n",
       "    <tr>\n",
       "      <th>37</th>\n",
       "      <td>30</td>\n",
       "      <td>49000</td>\n",
       "    </tr>\n",
       "  </tbody>\n",
       "</table>\n",
       "<p>320 rows × 2 columns</p>\n",
       "</div>"
      ],
      "text/plain": [
       "     Age  EstimatedSalary\n",
       "93    29            28000\n",
       "23    45            22000\n",
       "299   46           117000\n",
       "13    32            18000\n",
       "90    22            81000\n",
       "..   ...              ...\n",
       "255   52            90000\n",
       "72    20            23000\n",
       "396   51            23000\n",
       "235   46            79000\n",
       "37    30            49000\n",
       "\n",
       "[320 rows x 2 columns]"
      ]
     },
     "execution_count": 18,
     "metadata": {},
     "output_type": "execute_result"
    }
   ],
   "source": [
    "x_train"
   ]
  },
  {
   "cell_type": "markdown",
   "id": "0616bf65",
   "metadata": {},
   "source": [
    "## before standardization"
   ]
  },
  {
   "cell_type": "code",
   "execution_count": 19,
   "id": "4b1a36e2",
   "metadata": {},
   "outputs": [
    {
     "data": {
      "text/plain": [
       "<seaborn.axisgrid.PairGrid at 0x1df0cff0760>"
      ]
     },
     "execution_count": 19,
     "metadata": {},
     "output_type": "execute_result"
    },
    {
     "data": {
      "image/png": "[encoded data removed]",
      "text/plain": [
       "<Figure size 360x360 with 6 Axes>"
      ]
     },
     "metadata": {
      "needs_background": "light"
     },
     "output_type": "display_data"
    }
   ],
   "source": [
    "sns.pairplot(data=x_train)"
   ]
  },
  {
   "cell_type": "markdown",
   "id": "a1620d72",
   "metadata": {},
   "source": [
    "## As we are calculating the eucledian distance between the two data point in knn we need to standardize the data for the x or independent variables"
   ]
  },
  {
   "cell_type": "code",
   "execution_count": 20,
   "id": "a23fb76e",
   "metadata": {},
   "outputs": [],
   "source": [
    "from sklearn.preprocessing import StandardScaler\n",
    "scalar=StandardScaler()\n"
   ]
  },
  {
   "cell_type": "code",
   "execution_count": 25,
   "id": "7674497b",
   "metadata": {},
   "outputs": [
    {
     "data": {
      "text/plain": [
       "array([[-0.80330081, -1.19121795],\n",
       "       [ 0.75697997, -1.36859801],\n",
       "       [ 0.85449752,  1.43991958],\n",
       "       [-0.51074816, -1.48685138],\n",
       "       [-1.48592365,  0.37563923],\n",
       "       [-1.19337101,  0.55301929],\n",
       "       [ 1.04953262, -1.04340124],\n",
       "       [-0.21819552, -0.30431766],\n",
       "       [ 0.95201507, -1.33903467],\n",
       "       [-1.09585346, -1.07296458],\n",
       "       [-0.51074816,  1.97205975],\n",
       "       [ 2.21974321, -1.0138379 ],\n",
       "       [ 1.43960282, -1.39816136],\n",
       "       [ 0.07435713, -0.39300769],\n",
       "       [-1.19337101,  0.64170932],\n",
       "       [ 2.02470811, -0.89558452],\n",
       "       [ 1.14705017,  0.58258263],\n",
       "       [-0.02316042,  0.2869492 ],\n",
       "       [-0.21819552,  0.25738586],\n",
       "       [-0.31571307, -0.74776781],\n",
       "       [-1.68095875, -0.57038775],\n",
       "       [ 0.85449752,  0.58258263],\n",
       "       [-0.60826571, -1.0138379 ],\n",
       "       [ 0.95201507, -1.13209127],\n",
       "       [-0.21819552, -0.54082441],\n",
       "       [ 0.17187468,  0.81908937],\n",
       "       [-0.41323061,  1.32166621],\n",
       "       [ 1.14705017,  0.52345594],\n",
       "       [ 0.75697997,  0.31651254],\n",
       "       [ 0.65946243, -0.86602118],\n",
       "       [ 0.36690978, -0.27475432],\n",
       "       [ 0.46442733, -0.45213438],\n",
       "       [-0.21819552,  0.13913248],\n",
       "       [ 0.36690978,  0.10956914],\n",
       "       [-0.99833591,  0.81908937],\n",
       "       [-0.70578326,  1.41035623],\n",
       "       [ 0.36690978, -0.48169772],\n",
       "       [ 0.36690978, -0.48169772],\n",
       "       [-1.68095875,  0.40520257],\n",
       "       [ 0.85449752, -0.80689449],\n",
       "       [-0.99833591, -1.10252793],\n",
       "       [-0.21819552,  0.0800058 ],\n",
       "       [ 1.14705017, -1.19121795],\n",
       "       [-0.21819552,  0.67127266],\n",
       "       [-0.02316042,  0.19825917],\n",
       "       [-0.51074816,  1.43991958],\n",
       "       [-0.12067797,  0.19825917],\n",
       "       [-1.68095875,  0.52345594],\n",
       "       [ 0.07435713, -0.54082441],\n",
       "       [ 1.14705017, -0.95471121],\n",
       "       [ 0.26939223, -0.09737426],\n",
       "       [-0.02316042,  0.25738586],\n",
       "       [ 2.21974321, -0.65907778],\n",
       "       [ 1.04953262,  2.06074978],\n",
       "       [ 0.26939223,  0.0800058 ],\n",
       "       [-0.12067797, -0.15650095],\n",
       "       [-1.09585346,  0.37563923],\n",
       "       [-0.41323061, -1.10252793],\n",
       "       [ 0.36690978, -0.51126106],\n",
       "       [ 0.85449752,  0.16869583],\n",
       "       [-1.87599385,  0.40520257],\n",
       "       [-0.02316042, -1.04340124],\n",
       "       [-0.21819552, -0.45213438],\n",
       "       [-0.90081836, -0.27475432],\n",
       "       [-0.02316042,  0.0800058 ],\n",
       "       [-1.87599385, -0.71820447],\n",
       "       [ 0.07435713, -0.21562763],\n",
       "       [-0.21819552, -0.09737426],\n",
       "       [-0.60826571, -0.06781092],\n",
       "       [ 0.95201507, -1.27990798],\n",
       "       [ 0.46442733,  1.05559612],\n",
       "       [-1.7784763 , -1.45728804],\n",
       "       [-1.5834412 ,  0.10956914],\n",
       "       [-0.90081836, -1.07296458],\n",
       "       [ 1.43960282,  2.4155099 ],\n",
       "       [ 1.53712037,  1.05559612],\n",
       "       [-1.19337101,  0.34607588],\n",
       "       [-1.09585346,  0.10956914],\n",
       "       [-1.09585346, -1.57554141],\n",
       "       [ 0.26939223,  2.17900315],\n",
       "       [-0.21819552, -0.89558452],\n",
       "       [ 1.92719056,  1.58773629],\n",
       "       [ 0.36690978,  0.55301929],\n",
       "       [-1.29088856,  0.61214597],\n",
       "       [-0.02316042, -0.48169772],\n",
       "       [-0.21819552,  1.17384949],\n",
       "       [-0.51074816,  0.93734275],\n",
       "       [-0.21819552,  2.32681987],\n",
       "       [-1.7784763 , -1.25034464],\n",
       "       [ 0.85449752,  0.40520257],\n",
       "       [ 0.95201507,  1.08515946],\n",
       "       [ 0.75697997, -0.68864112],\n",
       "       [ 0.07435713, -0.51126106],\n",
       "       [-0.02316042,  0.73039934],\n",
       "       [-0.80330081, -0.74776781],\n",
       "       [ 0.36690978, -1.13209127],\n",
       "       [ 0.26939223, -0.24519098],\n",
       "       [-0.99833591,  0.58258263],\n",
       "       [-0.99833591,  0.64170932],\n",
       "       [ 0.17187468,  0.0800058 ],\n",
       "       [-1.3884061 , -1.19121795],\n",
       "       [ 1.34208527,  2.29725653],\n",
       "       [-1.3884061 , -0.15650095],\n",
       "       [-0.02316042,  0.34607588],\n",
       "       [ 0.26939223, -0.62951444],\n",
       "       [ 1.04953262, -1.16165461],\n",
       "       [-0.21819552, -0.27475432],\n",
       "       [-1.09585346, -1.13209127],\n",
       "       [ 0.17187468,  1.1147228 ],\n",
       "       [-0.90081836,  0.46432926],\n",
       "       [ 2.12222566,  0.22782251],\n",
       "       [ 0.26939223, -0.33388101],\n",
       "       [-0.21819552,  0.84865272],\n",
       "       [-1.09585346,  0.52345594],\n",
       "       [ 0.36690978, -0.15650095],\n",
       "       [-0.80330081, -0.62951444],\n",
       "       [-1.09585346, -1.51641473],\n",
       "       [ 2.02470811, -1.33903467],\n",
       "       [-0.70578326, -0.18606429],\n",
       "       [-1.19337101, -1.04340124],\n",
       "       [ 2.12222566, -1.16165461],\n",
       "       [-0.90081836, -0.92514787],\n",
       "       [ 0.17187468,  0.25738586],\n",
       "       [ 0.95201507,  1.14428615],\n",
       "       [ 1.43960282,  2.06074978],\n",
       "       [-0.80330081, -0.74776781],\n",
       "       [-0.99833591,  2.03118644],\n",
       "       [-1.29088856, -0.39300769],\n",
       "       [ 0.26939223,  0.10956914],\n",
       "       [-1.5834412 , -1.54597807],\n",
       "       [ 1.92719056, -1.25034464],\n",
       "       [-0.70578326,  1.97205975],\n",
       "       [ 1.04953262,  1.49904626],\n",
       "       [ 0.26939223, -0.33388101],\n",
       "       [-0.21819552,  0.19825917],\n",
       "       [-0.90081836, -0.71820447],\n",
       "       [-0.02316042,  0.16869583],\n",
       "       [-0.21819552, -1.2207813 ],\n",
       "       [-0.02316042,  0.31651254],\n",
       "       [-0.51074816,  1.52860961],\n",
       "       [-0.80330081,  0.19825917],\n",
       "       [-0.70578326, -1.51641473],\n",
       "       [-1.19337101,  0.31651254],\n",
       "       [ 0.26939223,  1.14428615],\n",
       "       [-1.29088856, -1.45728804],\n",
       "       [ 0.36690978,  0.10956914],\n",
       "       [ 0.07435713, -0.21562763],\n",
       "       [-0.12067797,  2.23812984],\n",
       "       [ 0.46442733, -0.1269376 ],\n",
       "       [ 1.04953262, -1.04340124],\n",
       "       [ 1.04953262, -1.13209127],\n",
       "       [-1.3884061 , -1.4277247 ],\n",
       "       [ 1.73215547,  1.82424304],\n",
       "       [-0.80330081,  2.35638321],\n",
       "       [ 0.46442733, -0.09737426],\n",
       "       [-0.99833591, -0.42257103],\n",
       "       [-0.02316042, -0.39300769],\n",
       "       [-1.19337101, -1.36859801],\n",
       "       [ 2.12222566,  2.2085665 ],\n",
       "       [ 0.46442733, -0.42257103],\n",
       "       [-0.99833591, -1.51641473],\n",
       "       [ 0.95201507, -0.57038775],\n",
       "       [-0.90081836, -0.27475432],\n",
       "       [-0.41323061,  0.02087911],\n",
       "       [-0.60826571, -0.00868423],\n",
       "       [-0.21819552, -1.33903467],\n",
       "       [-0.21819552, -1.36859801],\n",
       "       [ 1.92719056, -1.04340124],\n",
       "       [-0.70578326,  1.14428615],\n",
       "       [ 0.85449752, -1.33903467],\n",
       "       [ 0.36690978, -0.24519098],\n",
       "       [-0.41323061, -0.80689449],\n",
       "       [-0.41323061, -0.24519098],\n",
       "       [ 0.95201507, -0.62951444],\n",
       "       [-0.90081836, -0.39300769],\n",
       "       [ 0.75697997, -1.07296458],\n",
       "       [-0.21819552,  0.19825917],\n",
       "       [ 2.12222566, -0.77733115],\n",
       "       [ 0.95201507, -0.54082441],\n",
       "       [ 0.95201507, -0.51126106],\n",
       "       [-0.21819552,  0.31651254],\n",
       "       [ 0.17187468, -0.77733115],\n",
       "       [ 0.26939223,  0.2869492 ],\n",
       "       [-1.3884061 , -0.59995109],\n",
       "       [ 0.17187468,  0.19825917],\n",
       "       [-0.21819552, -0.33388101],\n",
       "       [ 1.73215547, -0.86602118],\n",
       "       [-0.60826571,  0.0800058 ],\n",
       "       [-0.90081836,  1.61729964],\n",
       "       [ 0.46442733,  0.34607588],\n",
       "       [ 0.26939223, -0.27475432],\n",
       "       [ 1.04953262,  0.16869583],\n",
       "       [-1.5834412 ,  0.58258263],\n",
       "       [ 1.53712037,  0.10956914],\n",
       "       [-0.99833591, -0.30431766],\n",
       "       [-0.21819552, -0.62951444],\n",
       "       [-0.90081836,  0.61214597],\n",
       "       [-1.09585346,  0.34607588],\n",
       "       [-0.51074816,  1.43991958],\n",
       "       [ 0.46442733,  0.19825917],\n",
       "       [-0.41323061,  2.38594656],\n",
       "       [ 0.36690978,  0.34607588],\n",
       "       [-0.60826571, -0.30431766],\n",
       "       [ 0.17187468,  1.94249641],\n",
       "       [-0.99833591, -1.4277247 ],\n",
       "       [-0.80330081,  0.43476591],\n",
       "       [-1.7784763 ,  0.05044245],\n",
       "       [-1.7784763 ,  0.4938926 ],\n",
       "       [-0.80330081, -0.21562763],\n",
       "       [ 0.17187468,  1.94249641],\n",
       "       [-0.60826571,  0.22782251],\n",
       "       [ 0.36690978,  0.10956914],\n",
       "       [-1.09585346,  0.34607588],\n",
       "       [ 0.26939223, -0.21562763],\n",
       "       [-0.21819552, -1.27990798],\n",
       "       [ 1.04953262,  0.81908937],\n",
       "       [ 0.46442733,  2.38594656],\n",
       "       [-0.90081836,  0.31651254],\n",
       "       [ 1.34208527,  1.94249641],\n",
       "       [-0.41323061, -1.19121795],\n",
       "       [ 0.46442733, -0.42257103],\n",
       "       [ 0.75697997, -1.36859801],\n",
       "       [-0.02316042, -0.33388101],\n",
       "       [-0.31571307,  1.29210286],\n",
       "       [-0.21819552, -0.86602118],\n",
       "       [-1.48592365, -1.2207813 ],\n",
       "       [-0.21819552,  0.10956914],\n",
       "       [ 0.17187468, -0.27475432],\n",
       "       [-1.68095875,  0.16869583],\n",
       "       [ 0.85449752, -1.07296458],\n",
       "       [-1.09585346, -0.74776781],\n",
       "       [-0.80330081,  0.43476591],\n",
       "       [ 1.73215547,  1.67642632],\n",
       "       [-0.02316042,  2.29725653],\n",
       "       [ 0.75697997,  1.85380638],\n",
       "       [-0.41323061, -0.74776781],\n",
       "       [ 0.36690978, -0.68864112],\n",
       "       [ 0.46442733,  0.31651254],\n",
       "       [-0.02316042,  2.03118644],\n",
       "       [-1.29088856,  0.46432926],\n",
       "       [-0.51074816, -1.48685138],\n",
       "       [ 1.82967301,  1.05559612],\n",
       "       [ 1.14705017, -0.86602118],\n",
       "       [-0.90081836,  0.4938926 ],\n",
       "       [ 1.53712037,  2.2085665 ],\n",
       "       [-0.70578326,  0.61214597],\n",
       "       [ 1.92719056, -0.24519098],\n",
       "       [ 0.26939223,  0.19825917],\n",
       "       [ 0.36690978,  0.31651254],\n",
       "       [-1.68095875,  0.40520257],\n",
       "       [-1.48592365, -0.39300769],\n",
       "       [-0.21819552,  0.58258263],\n",
       "       [ 1.63463792,  0.05044245],\n",
       "       [-0.60826571, -1.57554141],\n",
       "       [ 1.24456772, -0.95471121],\n",
       "       [ 0.46442733, -0.09737426],\n",
       "       [-0.31571307, -0.74776781],\n",
       "       [ 0.46442733,  1.17384949],\n",
       "       [ 1.63463792, -1.25034464],\n",
       "       [-1.7784763 , -1.39816136],\n",
       "       [-0.12067797, -0.54082441],\n",
       "       [-0.02316042,  0.05044245],\n",
       "       [-0.12067797,  1.70598967],\n",
       "       [ 0.95201507, -1.4277247 ],\n",
       "       [-0.70578326,  0.31651254],\n",
       "       [ 2.12222566,  0.43476591],\n",
       "       [-0.80330081,  0.34607588],\n",
       "       [ 0.56194488,  1.29210286],\n",
       "       [ 0.07435713,  0.34607588],\n",
       "       [ 2.02470811,  2.23812984],\n",
       "       [-0.12067797,  1.67642632],\n",
       "       [ 1.14705017, -1.19121795],\n",
       "       [-1.87599385, -0.48169772],\n",
       "       [-0.70578326, -1.57554141],\n",
       "       [ 2.12222566,  0.58258263],\n",
       "       [-0.99833591, -0.33388101],\n",
       "       [ 0.07435713,  0.0800058 ],\n",
       "       [-0.60826571,  0.61214597],\n",
       "       [ 0.95201507, -1.0138379 ],\n",
       "       [-0.60826571,  0.16869583],\n",
       "       [-0.02316042,  0.10956914],\n",
       "       [ 0.26939223, -0.33388101],\n",
       "       [ 2.12222566,  1.82424304],\n",
       "       [ 1.14705017, -0.09737426],\n",
       "       [ 1.04953262,  0.64170932],\n",
       "       [ 0.85449752, -1.36859801],\n",
       "       [ 1.63463792,  1.05559612],\n",
       "       [-0.21819552, -1.4277247 ],\n",
       "       [ 1.14705017,  2.14943981],\n",
       "       [ 1.04953262, -0.80689449],\n",
       "       [-0.21819552, -0.39300769],\n",
       "       [-0.12067797, -0.24519098],\n",
       "       [-0.51074816,  2.4155099 ],\n",
       "       [-1.87599385, -0.00868423],\n",
       "       [-1.29088856, -0.39300769],\n",
       "       [ 0.46442733,  0.64170932],\n",
       "       [ 0.07435713, -0.27475432],\n",
       "       [ 2.21974321,  1.17384949],\n",
       "       [-1.48592365, -0.15650095],\n",
       "       [-1.29088856, -1.07296458],\n",
       "       [ 0.85449752, -0.27475432],\n",
       "       [ 1.04953262,  1.94249641],\n",
       "       [ 0.36690978,  0.10956914],\n",
       "       [ 1.24456772, -0.71820447],\n",
       "       [ 0.07435713,  0.0800058 ],\n",
       "       [-1.29088856, -1.33903467],\n",
       "       [-0.21819552, -0.21562763],\n",
       "       [-0.02316042,  0.34607588],\n",
       "       [-1.29088856, -1.2207813 ],\n",
       "       [-1.09585346,  0.46432926],\n",
       "       [-0.31571307, -1.27990798],\n",
       "       [-0.12067797, -0.42257103],\n",
       "       [-1.5834412 , -0.00868423],\n",
       "       [ 0.36690978,  0.0800058 ],\n",
       "       [ 2.21974321, -0.77733115],\n",
       "       [ 1.43960282,  0.64170932],\n",
       "       [-1.68095875, -1.33903467],\n",
       "       [ 1.34208527, -1.33903467],\n",
       "       [ 0.85449752,  0.31651254],\n",
       "       [-0.70578326, -0.57038775]])"
      ]
     },
     "execution_count": 25,
     "metadata": {},
     "output_type": "execute_result"
    }
   ],
   "source": [
    "x_train_scalar=scalar.fit_transform(x_train)\n",
    "\n",
    "\n",
    "x_train_scalar\n"
   ]
  },
  {
   "cell_type": "code",
   "execution_count": 26,
   "id": "13a03e7d",
   "metadata": {},
   "outputs": [
    {
     "data": {
      "text/html": [
       "<div>\n",
       "<style scoped>\n",
       "    .dataframe tbody tr th:only-of-type {\n",
       "        vertical-align: middle;\n",
       "    }\n",
       "\n",
       "    .dataframe tbody tr th {\n",
       "        vertical-align: top;\n",
       "    }\n",
       "\n",
       "    .dataframe thead th {\n",
       "        text-align: right;\n",
       "    }\n",
       "</style>\n",
       "<table border=\"1\" class=\"dataframe\">\n",
       "  <thead>\n",
       "    <tr style=\"text-align: right;\">\n",
       "      <th></th>\n",
       "      <th>Age</th>\n",
       "      <th>EstimatedSalary</th>\n",
       "    </tr>\n",
       "  </thead>\n",
       "  <tbody>\n",
       "    <tr>\n",
       "      <th>0</th>\n",
       "      <td>-0.803301</td>\n",
       "      <td>-1.191218</td>\n",
       "    </tr>\n",
       "    <tr>\n",
       "      <th>1</th>\n",
       "      <td>0.756980</td>\n",
       "      <td>-1.368598</td>\n",
       "    </tr>\n",
       "    <tr>\n",
       "      <th>2</th>\n",
       "      <td>0.854498</td>\n",
       "      <td>1.439920</td>\n",
       "    </tr>\n",
       "    <tr>\n",
       "      <th>3</th>\n",
       "      <td>-0.510748</td>\n",
       "      <td>-1.486851</td>\n",
       "    </tr>\n",
       "    <tr>\n",
       "      <th>4</th>\n",
       "      <td>-1.485924</td>\n",
       "      <td>0.375639</td>\n",
       "    </tr>\n",
       "    <tr>\n",
       "      <th>...</th>\n",
       "      <td>...</td>\n",
       "      <td>...</td>\n",
       "    </tr>\n",
       "    <tr>\n",
       "      <th>315</th>\n",
       "      <td>1.439603</td>\n",
       "      <td>0.641709</td>\n",
       "    </tr>\n",
       "    <tr>\n",
       "      <th>316</th>\n",
       "      <td>-1.680959</td>\n",
       "      <td>-1.339035</td>\n",
       "    </tr>\n",
       "    <tr>\n",
       "      <th>317</th>\n",
       "      <td>1.342085</td>\n",
       "      <td>-1.339035</td>\n",
       "    </tr>\n",
       "    <tr>\n",
       "      <th>318</th>\n",
       "      <td>0.854498</td>\n",
       "      <td>0.316513</td>\n",
       "    </tr>\n",
       "    <tr>\n",
       "      <th>319</th>\n",
       "      <td>-0.705783</td>\n",
       "      <td>-0.570388</td>\n",
       "    </tr>\n",
       "  </tbody>\n",
       "</table>\n",
       "<p>320 rows × 2 columns</p>\n",
       "</div>"
      ],
      "text/plain": [
       "          Age  EstimatedSalary\n",
       "0   -0.803301        -1.191218\n",
       "1    0.756980        -1.368598\n",
       "2    0.854498         1.439920\n",
       "3   -0.510748        -1.486851\n",
       "4   -1.485924         0.375639\n",
       "..        ...              ...\n",
       "315  1.439603         0.641709\n",
       "316 -1.680959        -1.339035\n",
       "317  1.342085        -1.339035\n",
       "318  0.854498         0.316513\n",
       "319 -0.705783        -0.570388\n",
       "\n",
       "[320 rows x 2 columns]"
      ]
     },
     "execution_count": 26,
     "metadata": {},
     "output_type": "execute_result"
    }
   ],
   "source": [
    "x_train_scalar=pd.DataFrame(x_train_scalar,columns=x_train.columns)\n",
    "x_train_scalar\n"
   ]
  },
  {
   "cell_type": "code",
   "execution_count": 27,
   "id": "4f39a8dc",
   "metadata": {},
   "outputs": [
    {
     "data": {
      "text/plain": [
       "array([[-0.29863069, -1.23842019],\n",
       "       [-0.02918947, -0.42323911],\n",
       "       [-0.29863069,  1.23623667],\n",
       "       [-0.02918947,  1.35269111],\n",
       "       [-1.19676812,  1.23623667],\n",
       "       [-0.11900321, -0.30678467],\n",
       "       [-1.73565058, -1.15107936],\n",
       "       [ 0.86894796,  0.39194198],\n",
       "       [-0.74769941, -1.67512435],\n",
       "       [ 0.77913422,  1.90584971],\n",
       "       [-0.47825818, -0.1029894 ],\n",
       "       [-0.02918947, -0.07387579],\n",
       "       [-0.38844444, -0.1029894 ],\n",
       "       [ 0.77913422,  1.61471361],\n",
       "       [ 1.22820293,  0.18814671],\n",
       "       [ 1.49764416,  1.67294083],\n",
       "       [ 1.85689913,  0.21726032],\n",
       "       [-1.10695438, -0.51057994],\n",
       "       [-1.01714064,  0.33371476],\n",
       "       [ 1.85689913,  0.77041891],\n",
       "       [ 0.06062428, -0.01564857],\n",
       "       [ 0.9587617 ,  0.36282837],\n",
       "       [ 0.41987925,  1.84762249],\n",
       "       [ 0.68932047, -0.94728409],\n",
       "       [ 0.50969299, -1.44221547],\n",
       "       [-1.19676812, -1.76246518],\n",
       "       [ 1.67727164, -0.83082965],\n",
       "       [ 0.86894796, -0.04476218],\n",
       "       [ 1.22820293, -1.20930658],\n",
       "       [ 1.13838919,  1.11978223],\n",
       "       [-0.02918947, -0.9763977 ],\n",
       "       [-1.82546432,  0.01346504],\n",
       "       [-1.91527806,  0.30460115],\n",
       "       [ 1.5874579 , -0.04476218],\n",
       "       [-1.10695438,  0.24637393],\n",
       "       [-0.83751315,  0.12991949],\n",
       "       [-1.55602309, -1.67512435],\n",
       "       [-0.65788566,  0.30460115],\n",
       "       [ 0.9587617 , -1.61689713],\n",
       "       [-1.82546432, -1.47132908],\n",
       "       [ 0.68932047,  1.99319054],\n",
       "       [ 1.67727164,  0.7413053 ],\n",
       "       [-0.47825818,  1.14889584],\n",
       "       [-1.46620935, -0.27767106],\n",
       "       [ 1.49764416, -0.45235272],\n",
       "       [-0.74769941,  1.23623667],\n",
       "       [ 0.77913422, -1.18019297],\n",
       "       [ 0.68932047,  1.09066862],\n",
       "       [-0.02918947,  0.10080588],\n",
       "       [ 1.13838919, -1.09285214],\n",
       "       [-1.37639561, -0.51057994],\n",
       "       [-0.20881695, -0.65614799],\n",
       "       [ 0.24025176,  0.12991949],\n",
       "       [ 0.59950673, -1.38398824],\n",
       "       [ 0.24025176, -0.07387579],\n",
       "       [-0.20881695, -0.3941255 ],\n",
       "       [ 1.85689913, -0.9763977 ],\n",
       "       [-0.29863069, -0.6852616 ],\n",
       "       [ 1.67727164,  0.56662364],\n",
       "       [ 0.3300655 ,  1.55648639],\n",
       "       [-1.10695438,  0.39194198],\n",
       "       [-1.46620935,  0.18814671],\n",
       "       [-0.11900321,  1.06155501],\n",
       "       [-0.38844444, -0.74348882],\n",
       "       [-0.29863069,  0.68307808],\n",
       "       [-0.20881695,  1.99319054],\n",
       "       [-1.19676812, -1.18019297],\n",
       "       [ 0.24025176, -0.16121662],\n",
       "       [ 0.3300655 ,  1.67294083],\n",
       "       [-0.11900321, -0.74348882],\n",
       "       [ 0.59950673,  0.59573725],\n",
       "       [-0.38844444, -0.91817048],\n",
       "       [-0.11900321,  1.09066862],\n",
       "       [-0.02918947, -0.13210301],\n",
       "       [-1.19676812, -0.6852616 ],\n",
       "       [ 1.31801667,  0.94510057],\n",
       "       [-0.56807192, -0.71437521],\n",
       "       [-1.19676812, -1.73335157],\n",
       "       [-0.83751315,  0.33371476],\n",
       "       [-0.38844444, -0.45235272]])"
      ]
     },
     "execution_count": 27,
     "metadata": {},
     "output_type": "execute_result"
    }
   ],
   "source": [
    "x_test_scalar=scalar.fit_transform(x_test)\n",
    "x_test_scalar"
   ]
  },
  {
   "cell_type": "code",
   "execution_count": 28,
   "id": "c2b47d23",
   "metadata": {},
   "outputs": [
    {
     "data": {
      "text/html": [
       "<div>\n",
       "<style scoped>\n",
       "    .dataframe tbody tr th:only-of-type {\n",
       "        vertical-align: middle;\n",
       "    }\n",
       "\n",
       "    .dataframe tbody tr th {\n",
       "        vertical-align: top;\n",
       "    }\n",
       "\n",
       "    .dataframe thead th {\n",
       "        text-align: right;\n",
       "    }\n",
       "</style>\n",
       "<table border=\"1\" class=\"dataframe\">\n",
       "  <thead>\n",
       "    <tr style=\"text-align: right;\">\n",
       "      <th></th>\n",
       "      <th>Age</th>\n",
       "      <th>EstimatedSalary</th>\n",
       "    </tr>\n",
       "  </thead>\n",
       "  <tbody>\n",
       "    <tr>\n",
       "      <th>0</th>\n",
       "      <td>-0.298631</td>\n",
       "      <td>-1.238420</td>\n",
       "    </tr>\n",
       "    <tr>\n",
       "      <th>1</th>\n",
       "      <td>-0.029189</td>\n",
       "      <td>-0.423239</td>\n",
       "    </tr>\n",
       "    <tr>\n",
       "      <th>2</th>\n",
       "      <td>-0.298631</td>\n",
       "      <td>1.236237</td>\n",
       "    </tr>\n",
       "    <tr>\n",
       "      <th>3</th>\n",
       "      <td>-0.029189</td>\n",
       "      <td>1.352691</td>\n",
       "    </tr>\n",
       "    <tr>\n",
       "      <th>4</th>\n",
       "      <td>-1.196768</td>\n",
       "      <td>1.236237</td>\n",
       "    </tr>\n",
       "    <tr>\n",
       "      <th>...</th>\n",
       "      <td>...</td>\n",
       "      <td>...</td>\n",
       "    </tr>\n",
       "    <tr>\n",
       "      <th>75</th>\n",
       "      <td>1.318017</td>\n",
       "      <td>0.945101</td>\n",
       "    </tr>\n",
       "    <tr>\n",
       "      <th>76</th>\n",
       "      <td>-0.568072</td>\n",
       "      <td>-0.714375</td>\n",
       "    </tr>\n",
       "    <tr>\n",
       "      <th>77</th>\n",
       "      <td>-1.196768</td>\n",
       "      <td>-1.733352</td>\n",
       "    </tr>\n",
       "    <tr>\n",
       "      <th>78</th>\n",
       "      <td>-0.837513</td>\n",
       "      <td>0.333715</td>\n",
       "    </tr>\n",
       "    <tr>\n",
       "      <th>79</th>\n",
       "      <td>-0.388444</td>\n",
       "      <td>-0.452353</td>\n",
       "    </tr>\n",
       "  </tbody>\n",
       "</table>\n",
       "<p>80 rows × 2 columns</p>\n",
       "</div>"
      ],
      "text/plain": [
       "         Age  EstimatedSalary\n",
       "0  -0.298631        -1.238420\n",
       "1  -0.029189        -0.423239\n",
       "2  -0.298631         1.236237\n",
       "3  -0.029189         1.352691\n",
       "4  -1.196768         1.236237\n",
       "..       ...              ...\n",
       "75  1.318017         0.945101\n",
       "76 -0.568072        -0.714375\n",
       "77 -1.196768        -1.733352\n",
       "78 -0.837513         0.333715\n",
       "79 -0.388444        -0.452353\n",
       "\n",
       "[80 rows x 2 columns]"
      ]
     },
     "execution_count": 28,
     "metadata": {},
     "output_type": "execute_result"
    }
   ],
   "source": [
    "x_test_scalar=pd.DataFrame(x_test_scalar,columns=x_test.columns)\n",
    "x_test_scalar"
   ]
  },
  {
   "cell_type": "code",
   "execution_count": 29,
   "id": "70e58ee7",
   "metadata": {},
   "outputs": [
    {
     "data": {
      "text/html": [
       "<div>\n",
       "<style scoped>\n",
       "    .dataframe tbody tr th:only-of-type {\n",
       "        vertical-align: middle;\n",
       "    }\n",
       "\n",
       "    .dataframe tbody tr th {\n",
       "        vertical-align: top;\n",
       "    }\n",
       "\n",
       "    .dataframe thead th {\n",
       "        text-align: right;\n",
       "    }\n",
       "</style>\n",
       "<table border=\"1\" class=\"dataframe\">\n",
       "  <thead>\n",
       "    <tr style=\"text-align: right;\">\n",
       "      <th></th>\n",
       "      <th>Age</th>\n",
       "      <th>EstimatedSalary</th>\n",
       "    </tr>\n",
       "  </thead>\n",
       "  <tbody>\n",
       "    <tr>\n",
       "      <th>count</th>\n",
       "      <td>320.0</td>\n",
       "      <td>320.0</td>\n",
       "    </tr>\n",
       "    <tr>\n",
       "      <th>mean</th>\n",
       "      <td>0.0</td>\n",
       "      <td>-0.0</td>\n",
       "    </tr>\n",
       "    <tr>\n",
       "      <th>std</th>\n",
       "      <td>1.0</td>\n",
       "      <td>1.0</td>\n",
       "    </tr>\n",
       "    <tr>\n",
       "      <th>min</th>\n",
       "      <td>-1.9</td>\n",
       "      <td>-1.6</td>\n",
       "    </tr>\n",
       "    <tr>\n",
       "      <th>25%</th>\n",
       "      <td>-0.8</td>\n",
       "      <td>-0.7</td>\n",
       "    </tr>\n",
       "    <tr>\n",
       "      <th>50%</th>\n",
       "      <td>-0.0</td>\n",
       "      <td>-0.1</td>\n",
       "    </tr>\n",
       "    <tr>\n",
       "      <th>75%</th>\n",
       "      <td>0.8</td>\n",
       "      <td>0.5</td>\n",
       "    </tr>\n",
       "    <tr>\n",
       "      <th>max</th>\n",
       "      <td>2.2</td>\n",
       "      <td>2.4</td>\n",
       "    </tr>\n",
       "  </tbody>\n",
       "</table>\n",
       "</div>"
      ],
      "text/plain": [
       "         Age  EstimatedSalary\n",
       "count  320.0            320.0\n",
       "mean     0.0             -0.0\n",
       "std      1.0              1.0\n",
       "min     -1.9             -1.6\n",
       "25%     -0.8             -0.7\n",
       "50%     -0.0             -0.1\n",
       "75%      0.8              0.5\n",
       "max      2.2              2.4"
      ]
     },
     "execution_count": 29,
     "metadata": {},
     "output_type": "execute_result"
    }
   ],
   "source": [
    "np.round(x_train_scalar.describe(),1)"
   ]
  },
  {
   "cell_type": "markdown",
   "id": "a030a153",
   "metadata": {},
   "source": [
    "## After Scalarization"
   ]
  },
  {
   "cell_type": "code",
   "execution_count": 31,
   "id": "65639d85",
   "metadata": {},
   "outputs": [
    {
     "data": {
      "text/plain": [
       "<seaborn.axisgrid.PairGrid at 0x1df0e4f9220>"
      ]
     },
     "execution_count": 31,
     "metadata": {},
     "output_type": "execute_result"
    },
    {
     "data": {
      "image/png": "[encoded data removed]",
      "text/plain": [
       "<Figure size 360x360 with 6 Axes>"
      ]
     },
     "metadata": {
      "needs_background": "light"
     },
     "output_type": "display_data"
    }
   ],
   "source": [
    "\n",
    "\n",
    "\n",
    "sns.pairplot(data=x_train_scalar)"
   ]
  },
  {
   "cell_type": "markdown",
   "id": "d769925a",
   "metadata": {},
   "source": [
    "## The Data plotting Is the Same As Compared To Before Standardization ,but in this case the Data is Distributed Normally where Mean=0 , S.D=1"
   ]
  },
  {
   "cell_type": "code",
   "execution_count": null,
   "id": "711d474c",
   "metadata": {},
   "outputs": [],
   "source": [
    "####################################################################"
   ]
  },
  {
   "cell_type": "markdown",
   "id": "c6b1e4c6",
   "metadata": {},
   "source": [
    "## ML Model K-NN"
   ]
  },
  {
   "cell_type": "code",
   "execution_count": 32,
   "id": "d2c77fc2",
   "metadata": {},
   "outputs": [
    {
     "name": "stdout",
     "output_type": "stream",
     "text": [
      "              precision    recall  f1-score   support\n",
      "\n",
      "           0       0.89      0.83      0.86        48\n",
      "           1       0.77      0.84      0.81        32\n",
      "\n",
      "    accuracy                           0.84        80\n",
      "   macro avg       0.83      0.84      0.83        80\n",
      "weighted avg       0.84      0.84      0.84        80\n",
      "\n"
     ]
    }
   ],
   "source": [
    "from sklearn.metrics import classification_report\n",
    "from sklearn import metrics\n",
    "from sklearn.neighbors import KNeighborsClassifier\n",
    "\n",
    "model1 = KNeighborsClassifier(n_neighbors=3)\n",
    "\n",
    "model1.fit(x_train_scalar,y_train)\n",
    "\n",
    "y_pred1=model1.predict(x_test_scalar)\n",
    "\n",
    "print(classification_report(y_test,y_pred1))\n",
    "\n"
   ]
  },
  {
   "cell_type": "code",
   "execution_count": 33,
   "id": "21a74662",
   "metadata": {},
   "outputs": [
    {
     "data": {
      "text/plain": [
       "0.8375"
      ]
     },
     "execution_count": 33,
     "metadata": {},
     "output_type": "execute_result"
    }
   ],
   "source": [
    "from sklearn.metrics import accuracy_score\n",
    "accuracy_score(y_test,y_pred1)"
   ]
  },
  {
   "cell_type": "code",
   "execution_count": 34,
   "id": "a9b2814f",
   "metadata": {},
   "outputs": [
    {
     "data": {
      "text/plain": [
       "(80,)"
      ]
     },
     "execution_count": 34,
     "metadata": {},
     "output_type": "execute_result"
    }
   ],
   "source": [
    "y_test.shape"
   ]
  },
  {
   "cell_type": "code",
   "execution_count": 35,
   "id": "6033ecf5",
   "metadata": {},
   "outputs": [
    {
     "data": {
      "text/plain": [
       "(80,)"
      ]
     },
     "execution_count": 35,
     "metadata": {},
     "output_type": "execute_result"
    }
   ],
   "source": [
    "y_pred1.shape"
   ]
  },
  {
   "cell_type": "markdown",
   "id": "84da9071",
   "metadata": {},
   "source": [
    "## Tunning Of HyperParameter"
   ]
  },
  {
   "cell_type": "code",
   "execution_count": 36,
   "id": "b3db55dc",
   "metadata": {},
   "outputs": [
    {
     "name": "stdout",
     "output_type": "stream",
     "text": [
      "\n",
      "CV accuracy for k = 1 is 88%\n",
      "\n",
      "CV accuracy for k = 3 is 88%\n",
      "\n",
      "CV accuracy for k = 5 is 88%\n",
      "\n",
      "CV accuracy for k = 7 is 89%\n",
      "\n",
      "CV accuracy for k = 9 is 87%\n",
      "\n",
      "CV accuracy for k = 11 is 87%\n",
      "\n",
      "CV accuracy for k = 13 is 85%\n",
      "\n",
      "CV accuracy for k = 15 is 86%\n",
      "\n",
      "CV accuracy for k = 17 is 86%\n",
      "\n",
      "CV accuracy for k = 19 is 86%\n",
      "\n",
      "CV accuracy for k = 21 is 85%\n",
      "\n",
      "CV accuracy for k = 23 is 84%\n",
      "\n",
      "CV accuracy for k = 25 is 84%\n",
      "\n",
      "CV accuracy for k = 27 is 84%\n",
      "\n",
      "CV accuracy for k = 29 is 84%\n"
     ]
    }
   ],
   "source": [
    "from sklearn import model_selection\n",
    "\n",
    "# split the train data set into cross validation train and cross validation test\n",
    "x_tr, x_cv, y_tr, y_cv = model_selection.train_test_split(x_train_scalar, y_train, test_size=0.3)\n",
    "\n",
    "for i in range(1,30,2):\n",
    "    # instantiate learning model (k = 30)\n",
    "    knn = KNeighborsClassifier(n_neighbors=i)\n",
    "\n",
    "    # fitting the model on train dataset\n",
    "    knn.fit(x_tr, y_tr)\n",
    "\n",
    "    # predict the response(predicd = predicted y_cv) on the \n",
    "    # crossvalidation dataset(X_cv) on the above trained model on training data with K = i\n",
    "    pred = knn.predict(x_cv)\n",
    "\n",
    "    # evaluate CV accuracy on K = i\n",
    "    acc = accuracy_score(y_cv, pred, normalize=True) * float(100)\n",
    "    print('\\nCV accuracy for k = %d is %d%%' % (i, acc))"
   ]
  },
  {
   "cell_type": "markdown",
   "id": "61e41a4f",
   "metadata": {},
   "source": [
    "## Retraining with the optimal value of K received using simple cross validation and calculating test accuracy"
   ]
  },
  {
   "cell_type": "code",
   "execution_count": 37,
   "id": "df3e0123",
   "metadata": {},
   "outputs": [
    {
     "name": "stdout",
     "output_type": "stream",
     "text": [
      "\n",
      "****Test accuracy for k = 7 is 90%\n"
     ]
    }
   ],
   "source": [
    "# Retrain the model with tuned hyperparmeter Koptimal (Koptimal = K where accuracy is max in CV) \n",
    "knn = KNeighborsClassifier(n_neighbors=7)\n",
    "knn.fit(x_train_scalar,y_train)\n",
    "y_pred = knn.predict(x_test_scalar)\n",
    "acc = accuracy_score(y_test, y_pred, normalize=True) * float(100)\n",
    "print('\\n****Test accuracy for k = 7 is %d%%' % (acc))\n",
    "\n",
    "#  Predicted class from KNN\n",
    "\n"
   ]
  },
  {
   "cell_type": "code",
   "execution_count": 38,
   "id": "881a1237",
   "metadata": {},
   "outputs": [
    {
     "data": {
      "text/html": [
       "<div>\n",
       "<style scoped>\n",
       "    .dataframe tbody tr th:only-of-type {\n",
       "        vertical-align: middle;\n",
       "    }\n",
       "\n",
       "    .dataframe tbody tr th {\n",
       "        vertical-align: top;\n",
       "    }\n",
       "\n",
       "    .dataframe thead th {\n",
       "        text-align: right;\n",
       "    }\n",
       "</style>\n",
       "<table border=\"1\" class=\"dataframe\">\n",
       "  <thead>\n",
       "    <tr style=\"text-align: right;\">\n",
       "      <th></th>\n",
       "      <th>age</th>\n",
       "      <th>estimated salary</th>\n",
       "      <th>actualclass</th>\n",
       "      <th>Predicted Class</th>\n",
       "    </tr>\n",
       "  </thead>\n",
       "  <tbody>\n",
       "    <tr>\n",
       "      <th>398</th>\n",
       "      <td>36</td>\n",
       "      <td>33000</td>\n",
       "      <td>0</td>\n",
       "      <td>0</td>\n",
       "    </tr>\n",
       "    <tr>\n",
       "      <th>125</th>\n",
       "      <td>39</td>\n",
       "      <td>61000</td>\n",
       "      <td>0</td>\n",
       "      <td>0</td>\n",
       "    </tr>\n",
       "    <tr>\n",
       "      <th>328</th>\n",
       "      <td>36</td>\n",
       "      <td>118000</td>\n",
       "      <td>1</td>\n",
       "      <td>1</td>\n",
       "    </tr>\n",
       "    <tr>\n",
       "      <th>339</th>\n",
       "      <td>39</td>\n",
       "      <td>122000</td>\n",
       "      <td>1</td>\n",
       "      <td>1</td>\n",
       "    </tr>\n",
       "    <tr>\n",
       "      <th>172</th>\n",
       "      <td>26</td>\n",
       "      <td>118000</td>\n",
       "      <td>0</td>\n",
       "      <td>0</td>\n",
       "    </tr>\n",
       "  </tbody>\n",
       "</table>\n",
       "</div>"
      ],
      "text/plain": [
       "     age  estimated salary  actualclass  Predicted Class\n",
       "398   36             33000            0                0\n",
       "125   39             61000            0                0\n",
       "328   36            118000            1                1\n",
       "339   39            122000            1                1\n",
       "172   26            118000            0                0"
      ]
     },
     "execution_count": 38,
     "metadata": {},
     "output_type": "execute_result"
    }
   ],
   "source": [
    "# Get text corresponding to vectors\n",
    "# actual_text = vectorized_text_df.loc[vectorized_text_df['tfidf_sent_vectors'].isin(list(X_test))]['Text']\n",
    "# print(actual_text)\n",
    "\n",
    "model_predicted_on_test_data = pd.DataFrame()\n",
    "model_predicted_on_test_data['age'] = x_test.iloc[:,0]\n",
    "model_predicted_on_test_data['estimated salary'] = x_test.iloc[:,-1]\n",
    "model_predicted_on_test_data['actualclass'] = y_test\n",
    "model_predicted_on_test_data['Predicted Class'] = y_pred\n",
    "\n",
    "model_predicted_on_test_data.to_csv(r\"KNN_Predicted_Class.csv\",index=False)\n",
    "model_predicted_on_test_data.head(5)"
   ]
  },
  {
   "cell_type": "code",
   "execution_count": null,
   "id": "4b847834",
   "metadata": {},
   "outputs": [],
   "source": []
  },
  {
   "cell_type": "code",
   "execution_count": 30,
   "id": "82b6c656",
   "metadata": {},
   "outputs": [],
   "source": [
    "## dataset from kaggle :https://www.kaggle.com/code/himanshuusa/sales-prediction-using-social-media-ads/notebook"
   ]
  },
  {
   "cell_type": "code",
   "execution_count": null,
   "id": "dc773f55",
   "metadata": {},
   "outputs": [],
   "source": []
  }
 ],
 "metadata": {
  "kernelspec": {
   "display_name": "Python 3 (ipykernel)",
   "language": "python",
   "name": "python3"
  },
  "language_info": {
   "codemirror_mode": {
    "name": "ipython",
    "version": 3
   },
   "file_extension": ".py",
   "mimetype": "text/x-python",
   "name": "python",
   "nbconvert_exporter": "python",
   "pygments_lexer": "ipython3",
   "version": "3.9.12"
  }
 },
 "nbformat": 4,
 "nbformat_minor": 5
}
